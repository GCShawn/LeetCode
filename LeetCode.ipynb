{
 "cells": [
  {
   "cell_type": "code",
   "execution_count": null,
   "metadata": {},
   "outputs": [],
   "source": [
    "class Solution(object):\n",
    "    def twoSum(self, nums, target):\n",
    "        \"\"\"\n",
    "        :type nums: List[int]\n",
    "        :type target: int\n",
    "        :rtype: List[int]\n",
    "        \"\"\"\n",
    "        hashmap = {}\n",
    "        for index, item in enumerate(nums):\n",
    "            if hashmap.has_key(target - item):\n",
    "                return hashmap[target-item],index\n",
    "            hashmap[item] = index"
   ]
  },
  {
   "cell_type": "code",
   "execution_count": null,
   "metadata": {},
   "outputs": [],
   "source": [
    "# Definition for singly-linked list.\n",
    "# class ListNode(object):\n",
    "#     def __init__(self, x):\n",
    "#         self.val = x\n",
    "#         self.next = None\n",
    "\n",
    "class Solution(object):\n",
    "    def addTwoNumbers(self, l1, l2):\n",
    "        \"\"\"\n",
    "        :type l1: ListNode\n",
    "        :type l2: ListNode\n",
    "        :rtype: ListNode\n",
    "        \"\"\"\n",
    "        result = ListNode(0)\n",
    "        result_tail = result\n",
    "        carry = 0\n",
    "        \n",
    "        while l1 or l2 or carry:            \n",
    "            val1  = (l1.val if l1 else 0)\n",
    "            val2  = (l2.val if l2 else 0)\n",
    "            carry, out = divmod(val1+val2 + carry, 10)\n",
    "\n",
    "            result_tail.next = ListNode(out)\n",
    "            result_tail = result_tail.next\n",
    "\n",
    "            l1 = (l1.next if l1 else None)\n",
    "            l2 = (l2.next if l2 else None)\n",
    "\n",
    "        return result.next"
   ]
  },
  {
   "cell_type": "code",
   "execution_count": null,
   "metadata": {},
   "outputs": [],
   "source": [
    "class Solution(object):\n",
    "    def lengthOfLongestSubstring(self, s):\n",
    "        \"\"\"\n",
    "        :type s: str\n",
    "        :rtype: int\n",
    "        \"\"\"\n",
    "        dicts = {}\n",
    "        maxlength = start = 0\n",
    "        for i,value in enumerate(s):\n",
    "            if value in dicts:\n",
    "                sums = dicts[value] + 1\n",
    "                if sums > start:\n",
    "                    start = sums\n",
    "            num = i - start + 1\n",
    "            if num > maxlength:\n",
    "                maxlength = num\n",
    "            dicts[value] = i\n",
    "        return maxlength"
   ]
  },
  {
   "cell_type": "code",
   "execution_count": null,
   "metadata": {},
   "outputs": [],
   "source": [
    "class Solution(object):\n",
    "    def findMedianSortedArrays(self, nums1, nums2):\n",
    "        \"\"\"\n",
    "        :type nums1: List[int]\n",
    "        :type nums2: List[int]\n",
    "        :rtype: float\n",
    "        \"\"\"\n",
    "        \n",
    "        nums1 = nums1 + nums2\n",
    "        nums1.sort()\n",
    "        if len(nums1)%2:#奇数\n",
    "            median = nums1[len(nums1)//2]\n",
    "        else:#偶数\n",
    "            median = (nums1[(len(nums1)/2)-1]+nums1[len(nums1)/2])/2.0\n",
    "        return median"
   ]
  },
  {
   "cell_type": "code",
   "execution_count": null,
   "metadata": {},
   "outputs": [],
   "source": [
    "class Solution(object):\n",
    "    def longestPalindrome(self, s):\n",
    "        \"\"\"\n",
    "        :type s: str\n",
    "        :rtype: str\n",
    "        \"\"\"\n",
    "        length = len(s)\n",
    "        \n",
    "        if length <= 1:\n",
    "            return s\n",
    "        \n",
    "        start = end = 0\n",
    "        \n",
    "        for i in range(length):\n",
    "            max_len_1 = self.get_max_len(s, i, i + 1)\n",
    "            max_len_2 = self.get_max_len(s, i, i)\n",
    "            max_len = max(max_len_1, max_len_2)\n",
    "            \n",
    "            if max_len > end - start:\n",
    "                start = i - (max_len - 1)//2\n",
    "                end = i + max_len//2\n",
    "                \n",
    "        return s[start: end+1]\n",
    "    \n",
    "    \n",
    "    def get_max_len(self, s, left, right):\n",
    "        length = len(s)\n",
    "        while left >= 0 and right < length and s[left] == s[right]:\n",
    "            left -= 1\n",
    "            right += 1\n",
    "        return right - left - 1\n",
    "        "
   ]
  },
  {
   "cell_type": "code",
   "execution_count": null,
   "metadata": {},
   "outputs": [],
   "source": [
    "class Solution(object):\n",
    "    def convert(self, s, numRows):\n",
    "        \"\"\"\n",
    "        :type s: str\n",
    "        :type numRows: int\n",
    "        :rtype: str\n",
    "        \"\"\"\n",
    "        \n",
    "        result = \"\"\n",
    "        length = len(s)\n",
    "        \n",
    "        if numRows == 1 or length == 1:\n",
    "            return s\n",
    "        \n",
    "        for i in range(numRows):\n",
    "            m = 0\n",
    "            if len(result) == length:\n",
    "                return result\n",
    "            \n",
    "            if i == 0 or i == (numRows-1):\n",
    "                while (i + m*(2*numRows-2)) <= length-1:\n",
    "                    result = result + s[i + m*(2*numRows-2)]\n",
    "                    m = m+1\n",
    "\n",
    "            else:\n",
    "                result = result + s[i]\n",
    "                m = 1\n",
    "                try:\n",
    "                    while (i + m*(2*numRows - 2) + -1*2*i) <= length-1:\n",
    "                        result = result + s[i + m*(2*numRows-2) + -1*2*i]\n",
    "                        result = result + s[i + m*(2*numRows-2)]\n",
    "                        m = m+1\n",
    "                except IndexError:\n",
    "                    continue\n",
    "                    \n",
    "        return result\n",
    "                \n",
    "        "
   ]
  },
  {
   "cell_type": "code",
   "execution_count": null,
   "metadata": {},
   "outputs": [],
   "source": [
    "class Solution(object):\n",
    "    def reverse(self, x):\n",
    "        \"\"\"\n",
    "        :type x: int\n",
    "        :rtype: int\n",
    "        \"\"\"\n",
    "        result = int(str(abs(x))[::-1])\n",
    "        \n",
    "        if result>2147483647 or result<-2147483647:\n",
    "            return 0\n",
    "        else:\n",
    "            if x>0:\n",
    "                return result\n",
    "            else:\n",
    "                return -result\n"
   ]
  },
  {
   "cell_type": "code",
   "execution_count": null,
   "metadata": {},
   "outputs": [],
   "source": []
  },
  {
   "cell_type": "code",
   "execution_count": null,
   "metadata": {},
   "outputs": [],
   "source": []
  },
  {
   "cell_type": "code",
   "execution_count": null,
   "metadata": {},
   "outputs": [],
   "source": []
  },
  {
   "cell_type": "code",
   "execution_count": null,
   "metadata": {},
   "outputs": [],
   "source": []
  },
  {
   "cell_type": "code",
   "execution_count": null,
   "metadata": {},
   "outputs": [],
   "source": []
  },
  {
   "cell_type": "code",
   "execution_count": null,
   "metadata": {},
   "outputs": [],
   "source": []
  },
  {
   "cell_type": "code",
   "execution_count": null,
   "metadata": {},
   "outputs": [],
   "source": []
  },
  {
   "cell_type": "code",
   "execution_count": null,
   "metadata": {},
   "outputs": [],
   "source": []
  }
 ],
 "metadata": {
  "kernelspec": {
   "display_name": "Python 3",
   "language": "python",
   "name": "python3"
  },
  "language_info": {
   "codemirror_mode": {
    "name": "ipython",
    "version": 3
   },
   "file_extension": ".py",
   "mimetype": "text/x-python",
   "name": "python",
   "nbconvert_exporter": "python",
   "pygments_lexer": "ipython3",
   "version": "3.7.6"
  },
  "toc": {
   "base_numbering": 1,
   "nav_menu": {},
   "number_sections": true,
   "sideBar": true,
   "skip_h1_title": false,
   "title_cell": "Table of Contents",
   "title_sidebar": "Contents",
   "toc_cell": false,
   "toc_position": {},
   "toc_section_display": true,
   "toc_window_display": false
  },
  "varInspector": {
   "cols": {
    "lenName": 16,
    "lenType": 16,
    "lenVar": 40
   },
   "kernels_config": {
    "python": {
     "delete_cmd_postfix": "",
     "delete_cmd_prefix": "del ",
     "library": "var_list.py",
     "varRefreshCmd": "print(var_dic_list())"
    },
    "r": {
     "delete_cmd_postfix": ") ",
     "delete_cmd_prefix": "rm(",
     "library": "var_list.r",
     "varRefreshCmd": "cat(var_dic_list()) "
    }
   },
   "types_to_exclude": [
    "module",
    "function",
    "builtin_function_or_method",
    "instance",
    "_Feature"
   ],
   "window_display": false
  }
 },
 "nbformat": 4,
 "nbformat_minor": 4
}
